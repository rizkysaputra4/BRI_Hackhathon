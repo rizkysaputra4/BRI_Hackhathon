{
 "cells": [
  {
   "cell_type": "code",
   "execution_count": 1,
   "metadata": {},
   "outputs": [
    {
     "data": {
      "text/html": [
       "<div>\n",
       "<style scoped>\n",
       "    .dataframe tbody tr th:only-of-type {\n",
       "        vertical-align: middle;\n",
       "    }\n",
       "\n",
       "    .dataframe tbody tr th {\n",
       "        vertical-align: top;\n",
       "    }\n",
       "\n",
       "    .dataframe thead th {\n",
       "        text-align: right;\n",
       "    }\n",
       "</style>\n",
       "<table border=\"1\" class=\"dataframe\">\n",
       "  <thead>\n",
       "    <tr style=\"text-align: right;\">\n",
       "      <th></th>\n",
       "      <th>job_level</th>\n",
       "      <th>job_duration_in_current_job_level</th>\n",
       "      <th>person_level</th>\n",
       "      <th>job_duration_in_current_person_level</th>\n",
       "      <th>job_duration_in_current_branch</th>\n",
       "      <th>Employee_type</th>\n",
       "      <th>Employee_status</th>\n",
       "      <th>gender</th>\n",
       "      <th>age</th>\n",
       "      <th>marital_status_maried(Y/N)</th>\n",
       "      <th>number_of_dependences</th>\n",
       "      <th>number_of_dependences (male)</th>\n",
       "      <th>number_of_dependences (female)</th>\n",
       "      <th>Education_level</th>\n",
       "      <th>GPA</th>\n",
       "      <th>year_graduated</th>\n",
       "      <th>job_duration_as_permanent_worker</th>\n",
       "      <th>job_duration_from_training</th>\n",
       "      <th>branch_rotation</th>\n",
       "      <th>job_rotation</th>\n",
       "      <th>assign_of_otherposition</th>\n",
       "      <th>annual leave</th>\n",
       "      <th>sick_leaves</th>\n",
       "      <th>Best Performance</th>\n",
       "      <th>Avg_achievement_%</th>\n",
       "      <th>Last_achievement_%</th>\n",
       "      <th>Achievement_above_100%_during3quartal</th>\n",
       "      <th>achievement_target_1</th>\n",
       "      <th>achievement_target_2</th>\n",
       "      <th>achievement_target_3</th>\n",
       "    </tr>\n",
       "  </thead>\n",
       "  <tbody>\n",
       "    <tr>\n",
       "      <th>0</th>\n",
       "      <td>JG05</td>\n",
       "      <td>8.00</td>\n",
       "      <td>PG06</td>\n",
       "      <td>8.00</td>\n",
       "      <td>0.50</td>\n",
       "      <td>RM_type_A</td>\n",
       "      <td>Permanent</td>\n",
       "      <td>Female</td>\n",
       "      <td>1964</td>\n",
       "      <td>Y</td>\n",
       "      <td>3</td>\n",
       "      <td>1</td>\n",
       "      <td>2</td>\n",
       "      <td>level_4</td>\n",
       "      <td>2.32</td>\n",
       "      <td>1987</td>\n",
       "      <td>30.0</td>\n",
       "      <td>30</td>\n",
       "      <td>9</td>\n",
       "      <td>7</td>\n",
       "      <td>0</td>\n",
       "      <td>8</td>\n",
       "      <td>0</td>\n",
       "      <td>0</td>\n",
       "      <td>68.85</td>\n",
       "      <td>72.53</td>\n",
       "      <td>0.0</td>\n",
       "      <td>achiev_50%-100%</td>\n",
       "      <td>achiev_&lt; 50%</td>\n",
       "      <td>reached</td>\n",
       "    </tr>\n",
       "    <tr>\n",
       "      <th>1</th>\n",
       "      <td>JG04</td>\n",
       "      <td>5.17</td>\n",
       "      <td>PG04</td>\n",
       "      <td>2.00</td>\n",
       "      <td>1.25</td>\n",
       "      <td>RM_type_A</td>\n",
       "      <td>Permanent</td>\n",
       "      <td>Male</td>\n",
       "      <td>1979</td>\n",
       "      <td>Y</td>\n",
       "      <td>3</td>\n",
       "      <td>2</td>\n",
       "      <td>1</td>\n",
       "      <td>level_4</td>\n",
       "      <td>3.25</td>\n",
       "      <td>2001</td>\n",
       "      <td>15.0</td>\n",
       "      <td>16</td>\n",
       "      <td>7</td>\n",
       "      <td>7</td>\n",
       "      <td>9</td>\n",
       "      <td>3</td>\n",
       "      <td>0</td>\n",
       "      <td>0</td>\n",
       "      <td>94.81</td>\n",
       "      <td>101.13</td>\n",
       "      <td>3.0</td>\n",
       "      <td>achiev_50%-100%</td>\n",
       "      <td>achiev_50%-100%</td>\n",
       "      <td>reached</td>\n",
       "    </tr>\n",
       "    <tr>\n",
       "      <th>2</th>\n",
       "      <td>JG04</td>\n",
       "      <td>1.83</td>\n",
       "      <td>PG03</td>\n",
       "      <td>1.83</td>\n",
       "      <td>1.50</td>\n",
       "      <td>RM_type_A</td>\n",
       "      <td>Permanent</td>\n",
       "      <td>Male</td>\n",
       "      <td>1980</td>\n",
       "      <td>Y</td>\n",
       "      <td>1</td>\n",
       "      <td>0</td>\n",
       "      <td>1</td>\n",
       "      <td>level_5</td>\n",
       "      <td>3.23</td>\n",
       "      <td>2007</td>\n",
       "      <td>15.0</td>\n",
       "      <td>15</td>\n",
       "      <td>9</td>\n",
       "      <td>9</td>\n",
       "      <td>0</td>\n",
       "      <td>6</td>\n",
       "      <td>0</td>\n",
       "      <td>0</td>\n",
       "      <td>72.82</td>\n",
       "      <td>71.30</td>\n",
       "      <td>0.0</td>\n",
       "      <td>achiev_100%-150%</td>\n",
       "      <td>achiev_&lt; 50%</td>\n",
       "      <td>not_reached</td>\n",
       "    </tr>\n",
       "    <tr>\n",
       "      <th>3</th>\n",
       "      <td>JG04</td>\n",
       "      <td>7.92</td>\n",
       "      <td>PG04</td>\n",
       "      <td>4.00</td>\n",
       "      <td>0.17</td>\n",
       "      <td>RM_type_A</td>\n",
       "      <td>Permanent</td>\n",
       "      <td>Male</td>\n",
       "      <td>1984</td>\n",
       "      <td>Y</td>\n",
       "      <td>0</td>\n",
       "      <td>0</td>\n",
       "      <td>0</td>\n",
       "      <td>level_3</td>\n",
       "      <td>0.00</td>\n",
       "      <td>2006</td>\n",
       "      <td>8.0</td>\n",
       "      <td>8</td>\n",
       "      <td>5</td>\n",
       "      <td>5</td>\n",
       "      <td>0</td>\n",
       "      <td>3</td>\n",
       "      <td>0</td>\n",
       "      <td>0</td>\n",
       "      <td>86.89</td>\n",
       "      <td>90.09</td>\n",
       "      <td>2.0</td>\n",
       "      <td>achiev_50%-100%</td>\n",
       "      <td>achiev_50%-100%</td>\n",
       "      <td>not_reached</td>\n",
       "    </tr>\n",
       "    <tr>\n",
       "      <th>4</th>\n",
       "      <td>JG04</td>\n",
       "      <td>1.83</td>\n",
       "      <td>PG03</td>\n",
       "      <td>1.83</td>\n",
       "      <td>2.08</td>\n",
       "      <td>RM_type_A</td>\n",
       "      <td>Permanent</td>\n",
       "      <td>Male</td>\n",
       "      <td>1984</td>\n",
       "      <td>Y</td>\n",
       "      <td>1</td>\n",
       "      <td>0</td>\n",
       "      <td>1</td>\n",
       "      <td>NaN</td>\n",
       "      <td>NaN</td>\n",
       "      <td>NaN</td>\n",
       "      <td>7.0</td>\n",
       "      <td>7</td>\n",
       "      <td>4</td>\n",
       "      <td>6</td>\n",
       "      <td>11</td>\n",
       "      <td>2</td>\n",
       "      <td>1</td>\n",
       "      <td>1</td>\n",
       "      <td>95.17</td>\n",
       "      <td>100.72</td>\n",
       "      <td>2.0</td>\n",
       "      <td>achiev_&lt; 50%</td>\n",
       "      <td>achiev_&gt; 1.5</td>\n",
       "      <td>not_reached</td>\n",
       "    </tr>\n",
       "  </tbody>\n",
       "</table>\n",
       "</div>"
      ],
      "text/plain": [
       "  job_level  job_duration_in_current_job_level person_level  job_duration_in_current_person_level  job_duration_in_current_branch Employee_type Employee_status  gender   age marital_status_maried(Y/N)  number_of_dependences  number_of_dependences (male)  number_of_dependences (female) Education_level   GPA year_graduated  job_duration_as_permanent_worker  job_duration_from_training  branch_rotation  job_rotation  assign_of_otherposition  annual leave  sick_leaves  Best Performance  Avg_achievement_%  Last_achievement_%  Achievement_above_100%_during3quartal achievement_target_1 achievement_target_2 achievement_target_3\n",
       "0      JG05                               8.00         PG06                                  8.00                            0.50     RM_type_A       Permanent  Female  1964                          Y                      3                             1                               2         level_4  2.32           1987                              30.0                          30                9             7                        0             8            0                 0              68.85               72.53                                    0.0      achiev_50%-100%         achiev_< 50%              reached\n",
       "1      JG04                               5.17         PG04                                  2.00                            1.25     RM_type_A       Permanent    Male  1979                          Y                      3                             2                               1         level_4  3.25           2001                              15.0                          16                7             7                        9             3            0                 0              94.81              101.13                                    3.0      achiev_50%-100%      achiev_50%-100%              reached\n",
       "2      JG04                               1.83         PG03                                  1.83                            1.50     RM_type_A       Permanent    Male  1980                          Y                      1                             0                               1         level_5  3.23           2007                              15.0                          15                9             9                        0             6            0                 0              72.82               71.30                                    0.0     achiev_100%-150%         achiev_< 50%          not_reached\n",
       "3      JG04                               7.92         PG04                                  4.00                            0.17     RM_type_A       Permanent    Male  1984                          Y                      0                             0                               0         level_3  0.00           2006                               8.0                           8                5             5                        0             3            0                 0              86.89               90.09                                    2.0      achiev_50%-100%      achiev_50%-100%          not_reached\n",
       "4      JG04                               1.83         PG03                                  1.83                            2.08     RM_type_A       Permanent    Male  1984                          Y                      1                             0                               1             NaN   NaN            NaN                               7.0                           7                4             6                       11             2            1                 1              95.17              100.72                                    2.0         achiev_< 50%         achiev_> 1.5          not_reached"
      ]
     },
     "execution_count": 1,
     "metadata": {},
     "output_type": "execute_result"
    }
   ],
   "source": [
    "import pandas as pd\n",
    "import numpy as np\n",
    "import matplotlib.pyplot as plt\n",
    "\n",
    "data = pd.read_csv('train.csv', sep=',')\n",
    "dataPredict = pd.read_csv('test.csv', sep=',')\n",
    "pd.options.display.max_columns = None\n",
    "pd.set_option('expand_frame_repr', False)\n",
    "data.head()"
   ]
  },
  {
   "cell_type": "code",
   "execution_count": 2,
   "metadata": {},
   "outputs": [],
   "source": [
    "fdata = data\n",
    "# .drop(['Education_level',\n",
    "#                    'GPA',\n",
    "#                    'year_graduated',\n",
    "                   \n",
    "#                    'Avg_achievement_%',\n",
    "#                    'Last_achievement_%',\n",
    "#                    'Achievement_above_100%_during3quartal',\n",
    "#                    'achievement_target_1',\n",
    "#                    'achievement_target_2',\n",
    "#                    'achievement_target_3'\n",
    "#                   ], \n",
    "#                   axis=1)\n",
    "\n",
    "\n",
    "fdata2 = dataPredict\n",
    "# .drop(['Education_level',\n",
    "#                    'GPA',\n",
    "#                    'year_graduated',\n",
    "                   \n",
    "#                    'Avg_achievement_%',\n",
    "#                    'Last_achievement_%',\n",
    "#                    'Achievement_above_100%_during3quartal',\n",
    "#                    'achievement_target_1',\n",
    "#                    'achievement_target_2',\n",
    "#                    'achievement_target_3'\n",
    "#                           ], \n",
    "#                   axis=1)"
   ]
  },
  {
   "cell_type": "code",
   "execution_count": 3,
   "metadata": {},
   "outputs": [
    {
     "data": {
      "text/html": [
       "<div>\n",
       "<style scoped>\n",
       "    .dataframe tbody tr th:only-of-type {\n",
       "        vertical-align: middle;\n",
       "    }\n",
       "\n",
       "    .dataframe tbody tr th {\n",
       "        vertical-align: top;\n",
       "    }\n",
       "\n",
       "    .dataframe thead th {\n",
       "        text-align: right;\n",
       "    }\n",
       "</style>\n",
       "<table border=\"1\" class=\"dataframe\">\n",
       "  <thead>\n",
       "    <tr style=\"text-align: right;\">\n",
       "      <th></th>\n",
       "      <th>job_duration_in_current_branch</th>\n",
       "      <th>Last_achievement_%</th>\n",
       "      <th>Avg_achievement_%</th>\n",
       "      <th>annual leave</th>\n",
       "      <th>job_duration_in_current_person_level</th>\n",
       "      <th>age</th>\n",
       "      <th>job_duration_in_current_job_level</th>\n",
       "      <th>best_performance</th>\n",
       "    </tr>\n",
       "  </thead>\n",
       "  <tbody>\n",
       "    <tr>\n",
       "      <th>0</th>\n",
       "      <td>0.50</td>\n",
       "      <td>72.53</td>\n",
       "      <td>68.85</td>\n",
       "      <td>8</td>\n",
       "      <td>8.00</td>\n",
       "      <td>1964</td>\n",
       "      <td>8.00</td>\n",
       "      <td>0</td>\n",
       "    </tr>\n",
       "    <tr>\n",
       "      <th>1</th>\n",
       "      <td>1.25</td>\n",
       "      <td>101.13</td>\n",
       "      <td>94.81</td>\n",
       "      <td>3</td>\n",
       "      <td>2.00</td>\n",
       "      <td>1979</td>\n",
       "      <td>5.17</td>\n",
       "      <td>0</td>\n",
       "    </tr>\n",
       "    <tr>\n",
       "      <th>2</th>\n",
       "      <td>1.50</td>\n",
       "      <td>71.30</td>\n",
       "      <td>72.82</td>\n",
       "      <td>6</td>\n",
       "      <td>1.83</td>\n",
       "      <td>1980</td>\n",
       "      <td>1.83</td>\n",
       "      <td>0</td>\n",
       "    </tr>\n",
       "    <tr>\n",
       "      <th>3</th>\n",
       "      <td>0.17</td>\n",
       "      <td>90.09</td>\n",
       "      <td>86.89</td>\n",
       "      <td>3</td>\n",
       "      <td>4.00</td>\n",
       "      <td>1984</td>\n",
       "      <td>7.92</td>\n",
       "      <td>0</td>\n",
       "    </tr>\n",
       "    <tr>\n",
       "      <th>4</th>\n",
       "      <td>2.08</td>\n",
       "      <td>100.72</td>\n",
       "      <td>95.17</td>\n",
       "      <td>2</td>\n",
       "      <td>1.83</td>\n",
       "      <td>1984</td>\n",
       "      <td>1.83</td>\n",
       "      <td>1</td>\n",
       "    </tr>\n",
       "  </tbody>\n",
       "</table>\n",
       "</div>"
      ],
      "text/plain": [
       "   job_duration_in_current_branch  Last_achievement_%  Avg_achievement_%  annual leave  job_duration_in_current_person_level   age  job_duration_in_current_job_level  best_performance\n",
       "0                            0.50               72.53              68.85             8                                  8.00  1964                               8.00                 0\n",
       "1                            1.25              101.13              94.81             3                                  2.00  1979                               5.17                 0\n",
       "2                            1.50               71.30              72.82             6                                  1.83  1980                               1.83                 0\n",
       "3                            0.17               90.09              86.89             3                                  4.00  1984                               7.92                 0\n",
       "4                            2.08              100.72              95.17             2                                  1.83  1984                               1.83                 1"
      ]
     },
     "execution_count": 3,
     "metadata": {},
     "output_type": "execute_result"
    }
   ],
   "source": [
    "params = ['job_duration_in_current_branch', \n",
    "          'Last_achievement_%',\n",
    "          'Avg_achievement_%',\n",
    "          'annual leave',\n",
    "          'job_duration_in_current_person_level',\n",
    "          'age',\n",
    "          'job_duration_in_current_job_level',\n",
    "#              'job_duration_in_current_job_level', \n",
    "#              'job_duration_in_current_person_level', \n",
    "#              'job_rotation',\n",
    "#              'age',\n",
    "#              'branch_rotation',\n",
    "             'Best Performance']\n",
    "train_data = fdata[params]\n",
    "train_data = train_data.rename(columns={'Best Performance':'best_performance'})\n",
    "predict_data = fdata2[['job_duration_in_current_branch', \n",
    "                       'Last_achievement_%',\n",
    "          'Avg_achievement_%',\n",
    "          'annual leave',\n",
    "          'job_duration_in_current_person_level',\n",
    "          'age',\n",
    "          'job_duration_in_current_job_level',\n",
    "#              'job_duration_in_current_job_level', \n",
    "#              'job_duration_in_current_person_level', \n",
    "#              'job_rotation',\n",
    "#              'age',\n",
    "#              'branch_rotation'\n",
    "                      ]]\n",
    "train_data.head()"
   ]
  },
  {
   "cell_type": "code",
   "execution_count": 4,
   "metadata": {},
   "outputs": [],
   "source": [
    "# f1data = fdata.dropna()\n",
    "# f1data_label = f1data['Best Performance']\n",
    "# f1data = f1data.drop('Best Performance', axis = 1)\n",
    "# #data_combine = f1data.append(fdata2)\n",
    "# print(len(data_combine))\n",
    "# print(len(f1data))\n",
    "# #print(data.isnull().sum())\n",
    "# f1data.head()"
   ]
  },
  {
   "cell_type": "code",
   "execution_count": 5,
   "metadata": {},
   "outputs": [],
   "source": [
    "# from sklearn.preprocessing import LabelEncoder, MinMaxScaler\n",
    "# LE = LabelEncoder()\n",
    "\n",
    "# data_combine['job_level'] = LE.fit_transform(data_combine['job_level'])\n",
    "# data_combine['person_level'] = LE.fit_transform(data_combine['person_level'])\n",
    "# data_combine['Employee_type'] = LE.fit_transform(data_combine['Employee_type'])\n",
    "# data_combine['Employee_status'] = LE.fit_transform(data_combine['Employee_status'])\n",
    "# data_combine['gender'] = LE.fit_transform(data_combine['gender'])\n",
    "# data_combine['age'] = LE.fit_transform(data_combine['age'])\n",
    "# data_combine['marital_status_maried(Y/N)'] = LE.fit_transform(data_combine['marital_status_maried(Y/N)'])\n",
    "# data_combine"
   ]
  },
  {
   "cell_type": "code",
   "execution_count": 6,
   "metadata": {},
   "outputs": [],
   "source": [
    "# pred_real_data = data_combine[len(data_combine)-6000:]\n",
    "# data_for_train_test = data_combine[:len(data_combine)-6000]\n",
    "# data_for_train_test = data_for_train_test.assign(best_performance=f1data_label.values)\n",
    "# data_for_train_test"
   ]
  },
  {
   "cell_type": "code",
   "execution_count": 7,
   "metadata": {},
   "outputs": [
    {
     "name": "stdout",
     "output_type": "stream",
     "text": [
      "Checking whether there is an H2O instance running at http://localhost:54321 . connected.\n"
     ]
    },
    {
     "data": {
      "text/html": [
       "<div style=\"overflow:auto\"><table style=\"width:50%\"><tr><td>H2O_cluster_uptime:</td>\n",
       "<td>53 mins 41 secs</td></tr>\n",
       "<tr><td>H2O_cluster_timezone:</td>\n",
       "<td>Asia/Bangkok</td></tr>\n",
       "<tr><td>H2O_data_parsing_timezone:</td>\n",
       "<td>UTC</td></tr>\n",
       "<tr><td>H2O_cluster_version:</td>\n",
       "<td>3.32.0.2</td></tr>\n",
       "<tr><td>H2O_cluster_version_age:</td>\n",
       "<td>1 month and 2 days </td></tr>\n",
       "<tr><td>H2O_cluster_name:</td>\n",
       "<td>H2O_from_python_Rizky_Saputra_022xku</td></tr>\n",
       "<tr><td>H2O_cluster_total_nodes:</td>\n",
       "<td>1</td></tr>\n",
       "<tr><td>H2O_cluster_free_memory:</td>\n",
       "<td>1.249 Gb</td></tr>\n",
       "<tr><td>H2O_cluster_total_cores:</td>\n",
       "<td>4</td></tr>\n",
       "<tr><td>H2O_cluster_allowed_cores:</td>\n",
       "<td>4</td></tr>\n",
       "<tr><td>H2O_cluster_status:</td>\n",
       "<td>locked, healthy</td></tr>\n",
       "<tr><td>H2O_connection_url:</td>\n",
       "<td>http://localhost:54321</td></tr>\n",
       "<tr><td>H2O_connection_proxy:</td>\n",
       "<td>{\"http\": null, \"https\": null}</td></tr>\n",
       "<tr><td>H2O_internal_security:</td>\n",
       "<td>False</td></tr>\n",
       "<tr><td>H2O_API_Extensions:</td>\n",
       "<td>Amazon S3, Algos, AutoML, Core V3, TargetEncoder, Core V4</td></tr>\n",
       "<tr><td>Python_version:</td>\n",
       "<td>3.7.9 final</td></tr></table></div>"
      ],
      "text/plain": [
       "--------------------------  ---------------------------------------------------------\n",
       "H2O_cluster_uptime:         53 mins 41 secs\n",
       "H2O_cluster_timezone:       Asia/Bangkok\n",
       "H2O_data_parsing_timezone:  UTC\n",
       "H2O_cluster_version:        3.32.0.2\n",
       "H2O_cluster_version_age:    1 month and 2 days\n",
       "H2O_cluster_name:           H2O_from_python_Rizky_Saputra_022xku\n",
       "H2O_cluster_total_nodes:    1\n",
       "H2O_cluster_free_memory:    1.249 Gb\n",
       "H2O_cluster_total_cores:    4\n",
       "H2O_cluster_allowed_cores:  4\n",
       "H2O_cluster_status:         locked, healthy\n",
       "H2O_connection_url:         http://localhost:54321\n",
       "H2O_connection_proxy:       {\"http\": null, \"https\": null}\n",
       "H2O_internal_security:      False\n",
       "H2O_API_Extensions:         Amazon S3, Algos, AutoML, Core V3, TargetEncoder, Core V4\n",
       "Python_version:             3.7.9 final\n",
       "--------------------------  ---------------------------------------------------------"
      ]
     },
     "metadata": {},
     "output_type": "display_data"
    }
   ],
   "source": [
    "import h2o\n",
    "from h2o.automl import H2OAutoML\n",
    "h2o.init()"
   ]
  },
  {
   "cell_type": "code",
   "execution_count": 8,
   "metadata": {},
   "outputs": [
    {
     "name": "stdout",
     "output_type": "stream",
     "text": [
      "Parse progress: |█████████████████████████████████████████████████████████| 100%\n"
     ]
    }
   ],
   "source": [
    "df = h2o.H2OFrame(train_data)"
   ]
  },
  {
   "cell_type": "code",
   "execution_count": 9,
   "metadata": {},
   "outputs": [
    {
     "data": {
      "text/plain": [
       "[['0', '1']]"
      ]
     },
     "execution_count": 9,
     "metadata": {},
     "output_type": "execute_result"
    }
   ],
   "source": [
    "df['best_performance'] = df['best_performance'].asfactor()\n",
    "df['best_performance'].levels()"
   ]
  },
  {
   "cell_type": "code",
   "execution_count": 10,
   "metadata": {},
   "outputs": [],
   "source": [
    "y = 'best_performance'\n",
    "x = list(train_data.columns)\n",
    "x.remove(y)\n",
    "# print(len(train), len(validate), len(test))"
   ]
  },
  {
   "cell_type": "code",
   "execution_count": 11,
   "metadata": {},
   "outputs": [
    {
     "name": "stdout",
     "output_type": "stream",
     "text": [
      "AutoML progress: |█\n",
      "11:08:00.267: AutoML: XGBoost is not available; skipping it.\n",
      "\n",
      "███████████████████████████████████████████████████████| 100%\n"
     ]
    }
   ],
   "source": [
    "aml = H2OAutoML(max_models = 10, seed = 1)\n",
    "aml.train(x = x, y = y, training_frame = df)"
   ]
  },
  {
   "cell_type": "code",
   "execution_count": 12,
   "metadata": {},
   "outputs": [
    {
     "data": {
      "text/html": [
       "<table>\n",
       "<thead>\n",
       "<tr><th>model_id                                           </th><th style=\"text-align: right;\">     auc</th><th style=\"text-align: right;\">  logloss</th><th style=\"text-align: right;\">   aucpr</th><th style=\"text-align: right;\">  mean_per_class_error</th><th style=\"text-align: right;\">    rmse</th><th style=\"text-align: right;\">     mse</th></tr>\n",
       "</thead>\n",
       "<tbody>\n",
       "<tr><td>GBM_1_AutoML_20201220_110800                       </td><td style=\"text-align: right;\">0.653561</td><td style=\"text-align: right;\"> 0.346119</td><td style=\"text-align: right;\">0.186733</td><td style=\"text-align: right;\">              0.392611</td><td style=\"text-align: right;\">0.320859</td><td style=\"text-align: right;\">0.10295 </td></tr>\n",
       "<tr><td>GBM_2_AutoML_20201220_110800                       </td><td style=\"text-align: right;\">0.652041</td><td style=\"text-align: right;\"> 0.346481</td><td style=\"text-align: right;\">0.187418</td><td style=\"text-align: right;\">              0.396536</td><td style=\"text-align: right;\">0.320939</td><td style=\"text-align: right;\">0.103002</td></tr>\n",
       "<tr><td>GBM_5_AutoML_20201220_110800                       </td><td style=\"text-align: right;\">0.651885</td><td style=\"text-align: right;\"> 0.346444</td><td style=\"text-align: right;\">0.188481</td><td style=\"text-align: right;\">              0.389591</td><td style=\"text-align: right;\">0.321144</td><td style=\"text-align: right;\">0.103134</td></tr>\n",
       "<tr><td>StackedEnsemble_AllModels_AutoML_20201220_110800   </td><td style=\"text-align: right;\">0.651827</td><td style=\"text-align: right;\"> 0.349569</td><td style=\"text-align: right;\">0.189676</td><td style=\"text-align: right;\">              0.388394</td><td style=\"text-align: right;\">0.321323</td><td style=\"text-align: right;\">0.103249</td></tr>\n",
       "<tr><td>GBM_grid__1_AutoML_20201220_110800_model_1         </td><td style=\"text-align: right;\">0.651021</td><td style=\"text-align: right;\"> 0.345078</td><td style=\"text-align: right;\">0.187447</td><td style=\"text-align: right;\">              0.398836</td><td style=\"text-align: right;\">0.320359</td><td style=\"text-align: right;\">0.10263 </td></tr>\n",
       "<tr><td>GBM_3_AutoML_20201220_110800                       </td><td style=\"text-align: right;\">0.649973</td><td style=\"text-align: right;\"> 0.34763 </td><td style=\"text-align: right;\">0.185219</td><td style=\"text-align: right;\">              0.396333</td><td style=\"text-align: right;\">0.321492</td><td style=\"text-align: right;\">0.103357</td></tr>\n",
       "<tr><td>StackedEnsemble_BestOfFamily_AutoML_20201220_110800</td><td style=\"text-align: right;\">0.649248</td><td style=\"text-align: right;\"> 0.351441</td><td style=\"text-align: right;\">0.184391</td><td style=\"text-align: right;\">              0.392503</td><td style=\"text-align: right;\">0.321912</td><td style=\"text-align: right;\">0.103627</td></tr>\n",
       "<tr><td>XRT_1_AutoML_20201220_110800                       </td><td style=\"text-align: right;\">0.643656</td><td style=\"text-align: right;\"> 0.35643 </td><td style=\"text-align: right;\">0.174244</td><td style=\"text-align: right;\">              0.394464</td><td style=\"text-align: right;\">0.32523 </td><td style=\"text-align: right;\">0.105774</td></tr>\n",
       "<tr><td>DRF_1_AutoML_20201220_110800                       </td><td style=\"text-align: right;\">0.642475</td><td style=\"text-align: right;\"> 0.361897</td><td style=\"text-align: right;\">0.174225</td><td style=\"text-align: right;\">              0.393192</td><td style=\"text-align: right;\">0.326629</td><td style=\"text-align: right;\">0.106687</td></tr>\n",
       "<tr><td>GBM_4_AutoML_20201220_110800                       </td><td style=\"text-align: right;\">0.641607</td><td style=\"text-align: right;\"> 0.351317</td><td style=\"text-align: right;\">0.177205</td><td style=\"text-align: right;\">              0.388405</td><td style=\"text-align: right;\">0.32307 </td><td style=\"text-align: right;\">0.104374</td></tr>\n",
       "</tbody>\n",
       "</table>"
      ]
     },
     "metadata": {},
     "output_type": "display_data"
    },
    {
     "data": {
      "text/plain": []
     },
     "execution_count": 12,
     "metadata": {},
     "output_type": "execute_result"
    }
   ],
   "source": [
    "lb = aml.leaderboard\n",
    "lb"
   ]
  },
  {
   "cell_type": "code",
   "execution_count": 13,
   "metadata": {},
   "outputs": [
    {
     "name": "stderr",
     "output_type": "stream",
     "text": [
      "E:\\Anaconda\\envs\\project1\\lib\\site-packages\\h2o\\estimators\\stackedensemble.py:804: H2ODeprecationWarning: The usage of stacked_ensemble.metalearner()['name'] will be deprecated. Metalearner now returns the metalearner object. If you need to get the 'name' please use stacked_ensemble.metalearner().model_id\n",
      "  H2ODeprecationWarning\n"
     ]
    }
   ],
   "source": [
    "# Get model ids for all models in the AutoML Leaderboard\n",
    "model_ids = list(aml.leaderboard['model_id'].as_data_frame().iloc[:,0])\n",
    "# Get the \"All Models\" Stacked Ensemble model\n",
    "se = h2o.get_model([mid for mid in model_ids if \"StackedEnsemble_AllModels\" in mid][0])\n",
    "# Get the Stacked Ensemble metalearner model\n",
    "metalearner = h2o.get_model(se.metalearner()['name'])"
   ]
  },
  {
   "cell_type": "code",
   "execution_count": null,
   "metadata": {},
   "outputs": [],
   "source": []
  },
  {
   "cell_type": "code",
   "execution_count": 14,
   "metadata": {},
   "outputs": [
    {
     "data": {
      "text/plain": [
       "{'Intercept': -2.132750769302576,\n",
       " 'GBM_1_AutoML_20201220_110800': 0.06686714925512856,\n",
       " 'GBM_2_AutoML_20201220_110800': 0.023454438681108438,\n",
       " 'GBM_5_AutoML_20201220_110800': 0.12669111888545986,\n",
       " 'GBM_grid__1_AutoML_20201220_110800_model_1': 0.3284391352258166,\n",
       " 'GBM_3_AutoML_20201220_110800': 0.0,\n",
       " 'XRT_1_AutoML_20201220_110800': 0.044313524057201195,\n",
       " 'DRF_1_AutoML_20201220_110800': 0.0,\n",
       " 'GBM_4_AutoML_20201220_110800': 0.0,\n",
       " 'DeepLearning_1_AutoML_20201220_110800': 0.1275151660116627,\n",
       " 'GLM_1_AutoML_20201220_110800': 0.013547777668682218}"
      ]
     },
     "execution_count": 14,
     "metadata": {},
     "output_type": "execute_result"
    }
   ],
   "source": [
    "metalearner.coef_norm()"
   ]
  },
  {
   "cell_type": "code",
   "execution_count": 15,
   "metadata": {},
   "outputs": [
    {
     "data": {
      "image/png": "[encoded data removed]",
      "text/plain": [
       "<Figure size 1008x720 with 1 Axes>"
      ]
     },
     "metadata": {
      "needs_background": "light"
     },
     "output_type": "display_data"
    }
   ],
   "source": [
    "%matplotlib inline\n",
    "metalearner.std_coef_plot()"
   ]
  },
  {
   "cell_type": "code",
   "execution_count": 16,
   "metadata": {},
   "outputs": [
    {
     "name": "stdout",
     "output_type": "stream",
     "text": [
      "Parse progress: |█████████████████████████████████████████████████████████| 100%\n",
      "                               variable  relative_importance  scaled_importance  percentage\n",
      "0  job_duration_in_current_person_level           312.432526           1.000000    0.253199\n",
      "1                    Last_achievement_%           247.412537           0.791891    0.200506\n",
      "2        job_duration_in_current_branch           204.944107           0.655963    0.166089\n",
      "3     job_duration_in_current_job_level           143.691254           0.459911    0.116449\n",
      "4                     Avg_achievement_%           143.691116           0.459911    0.116449\n",
      "5                                   age           116.720352           0.373586    0.094592\n",
      "6                          annual leave            65.048111           0.208199    0.052716\n"
     ]
    },
    {
     "data": {
      "image/png": "[encoded data removed]",
      "text/plain": [
       "<Figure size 1008x720 with 1 Axes>"
      ]
     },
     "metadata": {
      "needs_background": "light"
     },
     "output_type": "display_data"
    },
    {
     "name": "stdout",
     "output_type": "stream",
     "text": [
      "gbm prediction progress: |████████████████████████████████████████████████| 100%\n"
     ]
    }
   ],
   "source": [
    "real_p = h2o.H2OFrame(predict_data)\n",
    "auto = aml.leader\n",
    "print(auto.varimp(use_pandas=True))\n",
    "auto.varimp_plot()\n",
    "res_pred = auto.predict(real_p)"
   ]
  },
  {
   "cell_type": "code",
   "execution_count": 22,
   "metadata": {},
   "outputs": [
    {
     "name": "stdout",
     "output_type": "stream",
     "text": [
      "0.7746930014074517\n"
     ]
    }
   ],
   "source": [
    "df_ress = res_pred.as_data_frame()\n",
    "print(auto.auc())\n"
   ]
  },
  {
   "cell_type": "code",
   "execution_count": 18,
   "metadata": {},
   "outputs": [
    {
     "name": "stdout",
     "output_type": "stream",
     "text": [
      "   index  Best Performance\n",
      "0      0          0.116927\n",
      "1      1          0.153255\n",
      "2      2          0.165973\n",
      "3      3          0.202503\n",
      "4      4          0.096520\n"
     ]
    },
    {
     "data": {
      "text/html": [
       "<table>\n",
       "<thead>\n",
       "<tr><th style=\"text-align: right;\">  predict</th><th style=\"text-align: right;\">      p0</th><th style=\"text-align: right;\">       p1</th></tr>\n",
       "</thead>\n",
       "<tbody>\n",
       "<tr><td style=\"text-align: right;\">        0</td><td style=\"text-align: right;\">0.883073</td><td style=\"text-align: right;\">0.116927 </td></tr>\n",
       "<tr><td style=\"text-align: right;\">        0</td><td style=\"text-align: right;\">0.846745</td><td style=\"text-align: right;\">0.153255 </td></tr>\n",
       "<tr><td style=\"text-align: right;\">        1</td><td style=\"text-align: right;\">0.834027</td><td style=\"text-align: right;\">0.165973 </td></tr>\n",
       "<tr><td style=\"text-align: right;\">        1</td><td style=\"text-align: right;\">0.797497</td><td style=\"text-align: right;\">0.202503 </td></tr>\n",
       "<tr><td style=\"text-align: right;\">        0</td><td style=\"text-align: right;\">0.90348 </td><td style=\"text-align: right;\">0.0965201</td></tr>\n",
       "<tr><td style=\"text-align: right;\">        1</td><td style=\"text-align: right;\">0.808751</td><td style=\"text-align: right;\">0.191249 </td></tr>\n",
       "<tr><td style=\"text-align: right;\">        0</td><td style=\"text-align: right;\">0.853061</td><td style=\"text-align: right;\">0.146939 </td></tr>\n",
       "<tr><td style=\"text-align: right;\">        0</td><td style=\"text-align: right;\">0.855531</td><td style=\"text-align: right;\">0.144469 </td></tr>\n",
       "<tr><td style=\"text-align: right;\">        0</td><td style=\"text-align: right;\">0.848408</td><td style=\"text-align: right;\">0.151592 </td></tr>\n",
       "<tr><td style=\"text-align: right;\">        0</td><td style=\"text-align: right;\">0.854697</td><td style=\"text-align: right;\">0.145303 </td></tr>\n",
       "</tbody>\n",
       "</table>"
      ]
     },
     "metadata": {},
     "output_type": "display_data"
    },
    {
     "name": "stdout",
     "output_type": "stream",
     "text": [
      "\n"
     ]
    }
   ],
   "source": [
    "df_res = pd.DataFrame(df_ress['p1'])\n",
    "df_res.columns = ['Best Performance']\n",
    "df_res['index'] = df_res.index\n",
    "df_res = df_res[['index', 'Best Performance']]\n",
    "print(df_res.head())\n",
    "print(res_pred)\n",
    "#print(df_res.max())"
   ]
  },
  {
   "cell_type": "code",
   "execution_count": 19,
   "metadata": {},
   "outputs": [],
   "source": [
    "df_res.to_csv('pred_result_with_h2o_autoML_most5.csv', index=False)"
   ]
  },
  {
   "cell_type": "code",
   "execution_count": 20,
   "metadata": {},
   "outputs": [],
   "source": [
    "from sklearn.ensemble import RandomForestClassifier"
   ]
  },
  {
   "cell_type": "code",
   "execution_count": 21,
   "metadata": {},
   "outputs": [
    {
     "ename": "KeyError",
     "evalue": "\"['branch_rotation', 'job_rotation'] not in index\"",
     "output_type": "error",
     "traceback": [
      "\u001b[1;31m---------------------------------------------------------------------------\u001b[0m",
      "\u001b[1;31mKeyError\u001b[0m                                  Traceback (most recent call last)",
      "\u001b[1;32m<ipython-input-21-6c7dc47a4f89>\u001b[0m in \u001b[0;36m<module>\u001b[1;34m\u001b[0m\n\u001b[0;32m      9\u001b[0m              \u001b[1;34m'job_rotation'\u001b[0m\u001b[1;33m,\u001b[0m\u001b[1;33m\u001b[0m\u001b[1;33m\u001b[0m\u001b[0m\n\u001b[0;32m     10\u001b[0m              \u001b[1;34m'age'\u001b[0m\u001b[1;33m,\u001b[0m\u001b[1;33m\u001b[0m\u001b[1;33m\u001b[0m\u001b[0m\n\u001b[1;32m---> 11\u001b[1;33m              'branch_rotation']]\n\u001b[0m\u001b[0;32m     12\u001b[0m \u001b[0mtrain_label\u001b[0m \u001b[1;33m=\u001b[0m \u001b[0mtrain_data_sklearn\u001b[0m\u001b[1;33m[\u001b[0m\u001b[1;34m'best_performance'\u001b[0m\u001b[1;33m]\u001b[0m\u001b[1;33m\u001b[0m\u001b[1;33m\u001b[0m\u001b[0m\n\u001b[0;32m     13\u001b[0m \u001b[1;33m\u001b[0m\u001b[0m\n",
      "\u001b[1;32mE:\\Anaconda\\envs\\project1\\lib\\site-packages\\pandas\\core\\frame.py\u001b[0m in \u001b[0;36m__getitem__\u001b[1;34m(self, key)\u001b[0m\n\u001b[0;32m   2906\u001b[0m             \u001b[1;32mif\u001b[0m \u001b[0mis_iterator\u001b[0m\u001b[1;33m(\u001b[0m\u001b[0mkey\u001b[0m\u001b[1;33m)\u001b[0m\u001b[1;33m:\u001b[0m\u001b[1;33m\u001b[0m\u001b[1;33m\u001b[0m\u001b[0m\n\u001b[0;32m   2907\u001b[0m                 \u001b[0mkey\u001b[0m \u001b[1;33m=\u001b[0m \u001b[0mlist\u001b[0m\u001b[1;33m(\u001b[0m\u001b[0mkey\u001b[0m\u001b[1;33m)\u001b[0m\u001b[1;33m\u001b[0m\u001b[1;33m\u001b[0m\u001b[0m\n\u001b[1;32m-> 2908\u001b[1;33m             \u001b[0mindexer\u001b[0m \u001b[1;33m=\u001b[0m \u001b[0mself\u001b[0m\u001b[1;33m.\u001b[0m\u001b[0mloc\u001b[0m\u001b[1;33m.\u001b[0m\u001b[0m_get_listlike_indexer\u001b[0m\u001b[1;33m(\u001b[0m\u001b[0mkey\u001b[0m\u001b[1;33m,\u001b[0m \u001b[0maxis\u001b[0m\u001b[1;33m=\u001b[0m\u001b[1;36m1\u001b[0m\u001b[1;33m,\u001b[0m \u001b[0mraise_missing\u001b[0m\u001b[1;33m=\u001b[0m\u001b[1;32mTrue\u001b[0m\u001b[1;33m)\u001b[0m\u001b[1;33m[\u001b[0m\u001b[1;36m1\u001b[0m\u001b[1;33m]\u001b[0m\u001b[1;33m\u001b[0m\u001b[1;33m\u001b[0m\u001b[0m\n\u001b[0m\u001b[0;32m   2909\u001b[0m \u001b[1;33m\u001b[0m\u001b[0m\n\u001b[0;32m   2910\u001b[0m         \u001b[1;31m# take() does not accept boolean indexers\u001b[0m\u001b[1;33m\u001b[0m\u001b[1;33m\u001b[0m\u001b[1;33m\u001b[0m\u001b[0m\n",
      "\u001b[1;32mE:\\Anaconda\\envs\\project1\\lib\\site-packages\\pandas\\core\\indexing.py\u001b[0m in \u001b[0;36m_get_listlike_indexer\u001b[1;34m(self, key, axis, raise_missing)\u001b[0m\n\u001b[0;32m   1252\u001b[0m             \u001b[0mkeyarr\u001b[0m\u001b[1;33m,\u001b[0m \u001b[0mindexer\u001b[0m\u001b[1;33m,\u001b[0m \u001b[0mnew_indexer\u001b[0m \u001b[1;33m=\u001b[0m \u001b[0max\u001b[0m\u001b[1;33m.\u001b[0m\u001b[0m_reindex_non_unique\u001b[0m\u001b[1;33m(\u001b[0m\u001b[0mkeyarr\u001b[0m\u001b[1;33m)\u001b[0m\u001b[1;33m\u001b[0m\u001b[1;33m\u001b[0m\u001b[0m\n\u001b[0;32m   1253\u001b[0m \u001b[1;33m\u001b[0m\u001b[0m\n\u001b[1;32m-> 1254\u001b[1;33m         \u001b[0mself\u001b[0m\u001b[1;33m.\u001b[0m\u001b[0m_validate_read_indexer\u001b[0m\u001b[1;33m(\u001b[0m\u001b[0mkeyarr\u001b[0m\u001b[1;33m,\u001b[0m \u001b[0mindexer\u001b[0m\u001b[1;33m,\u001b[0m \u001b[0maxis\u001b[0m\u001b[1;33m,\u001b[0m \u001b[0mraise_missing\u001b[0m\u001b[1;33m=\u001b[0m\u001b[0mraise_missing\u001b[0m\u001b[1;33m)\u001b[0m\u001b[1;33m\u001b[0m\u001b[1;33m\u001b[0m\u001b[0m\n\u001b[0m\u001b[0;32m   1255\u001b[0m         \u001b[1;32mreturn\u001b[0m \u001b[0mkeyarr\u001b[0m\u001b[1;33m,\u001b[0m \u001b[0mindexer\u001b[0m\u001b[1;33m\u001b[0m\u001b[1;33m\u001b[0m\u001b[0m\n\u001b[0;32m   1256\u001b[0m \u001b[1;33m\u001b[0m\u001b[0m\n",
      "\u001b[1;32mE:\\Anaconda\\envs\\project1\\lib\\site-packages\\pandas\\core\\indexing.py\u001b[0m in \u001b[0;36m_validate_read_indexer\u001b[1;34m(self, key, indexer, axis, raise_missing)\u001b[0m\n\u001b[0;32m   1302\u001b[0m             \u001b[1;32mif\u001b[0m \u001b[0mraise_missing\u001b[0m\u001b[1;33m:\u001b[0m\u001b[1;33m\u001b[0m\u001b[1;33m\u001b[0m\u001b[0m\n\u001b[0;32m   1303\u001b[0m                 \u001b[0mnot_found\u001b[0m \u001b[1;33m=\u001b[0m \u001b[0mlist\u001b[0m\u001b[1;33m(\u001b[0m\u001b[0mset\u001b[0m\u001b[1;33m(\u001b[0m\u001b[0mkey\u001b[0m\u001b[1;33m)\u001b[0m \u001b[1;33m-\u001b[0m \u001b[0mset\u001b[0m\u001b[1;33m(\u001b[0m\u001b[0max\u001b[0m\u001b[1;33m)\u001b[0m\u001b[1;33m)\u001b[0m\u001b[1;33m\u001b[0m\u001b[1;33m\u001b[0m\u001b[0m\n\u001b[1;32m-> 1304\u001b[1;33m                 \u001b[1;32mraise\u001b[0m \u001b[0mKeyError\u001b[0m\u001b[1;33m(\u001b[0m\u001b[1;34mf\"{not_found} not in index\"\u001b[0m\u001b[1;33m)\u001b[0m\u001b[1;33m\u001b[0m\u001b[1;33m\u001b[0m\u001b[0m\n\u001b[0m\u001b[0;32m   1305\u001b[0m \u001b[1;33m\u001b[0m\u001b[0m\n\u001b[0;32m   1306\u001b[0m             \u001b[1;31m# we skip the warning on Categorical\u001b[0m\u001b[1;33m\u001b[0m\u001b[1;33m\u001b[0m\u001b[1;33m\u001b[0m\u001b[0m\n",
      "\u001b[1;31mKeyError\u001b[0m: \"['branch_rotation', 'job_rotation'] not in index\""
     ]
    }
   ],
   "source": [
    "from sklearn.model_selection import train_test_split\n",
    "\n",
    "train_data_sklearn = train_data\n",
    "predict_data_sklearn = predict_data\n",
    "\n",
    "data_for_train_test = train_data_sklearn[['job_duration_in_current_branch', \n",
    "             'job_duration_in_current_job_level', \n",
    "             'job_duration_in_current_person_level', \n",
    "             'job_rotation',\n",
    "             'age',\n",
    "             'branch_rotation']]\n",
    "train_label = train_data_sklearn['best_performance']\n",
    "\n",
    "X_train, X_test, y_train, y_test = train_test_split(data_for_train_test, train_label, test_size=0.33, random_state=42)\n",
    "\n",
    "clf = RandomForestClassifier(max_depth=2, random_state=10)\n",
    "clf.fit(X_train, y_train)\n",
    "score = clf.score(X_test, y_test)\n",
    "\n",
    "from sklearn.metrics import roc_auc_score\n",
    "pred = clf.predict(X_test)\n",
    "prob = clf.predict_proba(X_test).T[1]\n",
    "valY = np.array(y_test) \n",
    "auc_score = roc_auc_score(valY, prob)\n",
    "\n",
    "print(auc_score)"
   ]
  },
  {
   "cell_type": "code",
   "execution_count": null,
   "metadata": {},
   "outputs": [],
   "source": [
    "from sklearn.linear_model import LogisticRegression\n",
    "logModel = LogisticRegression()\n",
    "logModel.fit(X_train, y_train)\n",
    "pred_log = logModel.predict(X_test)\n",
    "prob_log = logModel.predict_proba(X_test).T[1] \n",
    "auc_score_log = roc_auc_score(valY, prob_log)\n",
    "print(auc_score_log, logModel.coef_)"
   ]
  },
  {
   "cell_type": "code",
   "execution_count": null,
   "metadata": {},
   "outputs": [],
   "source": []
  }
 ],
 "metadata": {
  "kernelspec": {
   "display_name": "Python 3",
   "language": "python",
   "name": "python3"
  },
  "language_info": {
   "codemirror_mode": {
    "name": "ipython",
    "version": 3
   },
   "file_extension": ".py",
   "mimetype": "text/x-python",
   "name": "python",
   "nbconvert_exporter": "python",
   "pygments_lexer": "ipython3",
   "version": "3.7.9"
  }
 },
 "nbformat": 4,
 "nbformat_minor": 4
}
