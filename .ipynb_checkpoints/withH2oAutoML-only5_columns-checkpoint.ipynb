{
 "cells": [
  {
   "cell_type": "code",
   "execution_count": 1,
   "metadata": {},
   "outputs": [
    {
     "data": {
      "text/html": [
       "<div>\n",
       "<style scoped>\n",
       "    .dataframe tbody tr th:only-of-type {\n",
       "        vertical-align: middle;\n",
       "    }\n",
       "\n",
       "    .dataframe tbody tr th {\n",
       "        vertical-align: top;\n",
       "    }\n",
       "\n",
       "    .dataframe thead th {\n",
       "        text-align: right;\n",
       "    }\n",
       "</style>\n",
       "<table border=\"1\" class=\"dataframe\">\n",
       "  <thead>\n",
       "    <tr style=\"text-align: right;\">\n",
       "      <th></th>\n",
       "      <th>job_level</th>\n",
       "      <th>job_duration_in_current_job_level</th>\n",
       "      <th>person_level</th>\n",
       "      <th>job_duration_in_current_person_level</th>\n",
       "      <th>job_duration_in_current_branch</th>\n",
       "      <th>Employee_type</th>\n",
       "      <th>Employee_status</th>\n",
       "      <th>gender</th>\n",
       "      <th>age</th>\n",
       "      <th>marital_status_maried(Y/N)</th>\n",
       "      <th>number_of_dependences</th>\n",
       "      <th>number_of_dependences (male)</th>\n",
       "      <th>number_of_dependences (female)</th>\n",
       "      <th>Education_level</th>\n",
       "      <th>GPA</th>\n",
       "      <th>year_graduated</th>\n",
       "      <th>job_duration_as_permanent_worker</th>\n",
       "      <th>job_duration_from_training</th>\n",
       "      <th>branch_rotation</th>\n",
       "      <th>job_rotation</th>\n",
       "      <th>assign_of_otherposition</th>\n",
       "      <th>annual leave</th>\n",
       "      <th>sick_leaves</th>\n",
       "      <th>Best Performance</th>\n",
       "      <th>Avg_achievement_%</th>\n",
       "      <th>Last_achievement_%</th>\n",
       "      <th>Achievement_above_100%_during3quartal</th>\n",
       "      <th>achievement_target_1</th>\n",
       "      <th>achievement_target_2</th>\n",
       "      <th>achievement_target_3</th>\n",
       "    </tr>\n",
       "  </thead>\n",
       "  <tbody>\n",
       "    <tr>\n",
       "      <th>0</th>\n",
       "      <td>JG05</td>\n",
       "      <td>8.00</td>\n",
       "      <td>PG06</td>\n",
       "      <td>8.00</td>\n",
       "      <td>0.50</td>\n",
       "      <td>RM_type_A</td>\n",
       "      <td>Permanent</td>\n",
       "      <td>Female</td>\n",
       "      <td>1964</td>\n",
       "      <td>Y</td>\n",
       "      <td>3</td>\n",
       "      <td>1</td>\n",
       "      <td>2</td>\n",
       "      <td>level_4</td>\n",
       "      <td>2.32</td>\n",
       "      <td>1987</td>\n",
       "      <td>30.0</td>\n",
       "      <td>30</td>\n",
       "      <td>9</td>\n",
       "      <td>7</td>\n",
       "      <td>0</td>\n",
       "      <td>8</td>\n",
       "      <td>0</td>\n",
       "      <td>0</td>\n",
       "      <td>68.85</td>\n",
       "      <td>72.53</td>\n",
       "      <td>0.0</td>\n",
       "      <td>achiev_50%-100%</td>\n",
       "      <td>achiev_&lt; 50%</td>\n",
       "      <td>reached</td>\n",
       "    </tr>\n",
       "    <tr>\n",
       "      <th>1</th>\n",
       "      <td>JG04</td>\n",
       "      <td>5.17</td>\n",
       "      <td>PG04</td>\n",
       "      <td>2.00</td>\n",
       "      <td>1.25</td>\n",
       "      <td>RM_type_A</td>\n",
       "      <td>Permanent</td>\n",
       "      <td>Male</td>\n",
       "      <td>1979</td>\n",
       "      <td>Y</td>\n",
       "      <td>3</td>\n",
       "      <td>2</td>\n",
       "      <td>1</td>\n",
       "      <td>level_4</td>\n",
       "      <td>3.25</td>\n",
       "      <td>2001</td>\n",
       "      <td>15.0</td>\n",
       "      <td>16</td>\n",
       "      <td>7</td>\n",
       "      <td>7</td>\n",
       "      <td>9</td>\n",
       "      <td>3</td>\n",
       "      <td>0</td>\n",
       "      <td>0</td>\n",
       "      <td>94.81</td>\n",
       "      <td>101.13</td>\n",
       "      <td>3.0</td>\n",
       "      <td>achiev_50%-100%</td>\n",
       "      <td>achiev_50%-100%</td>\n",
       "      <td>reached</td>\n",
       "    </tr>\n",
       "    <tr>\n",
       "      <th>2</th>\n",
       "      <td>JG04</td>\n",
       "      <td>1.83</td>\n",
       "      <td>PG03</td>\n",
       "      <td>1.83</td>\n",
       "      <td>1.50</td>\n",
       "      <td>RM_type_A</td>\n",
       "      <td>Permanent</td>\n",
       "      <td>Male</td>\n",
       "      <td>1980</td>\n",
       "      <td>Y</td>\n",
       "      <td>1</td>\n",
       "      <td>0</td>\n",
       "      <td>1</td>\n",
       "      <td>level_5</td>\n",
       "      <td>3.23</td>\n",
       "      <td>2007</td>\n",
       "      <td>15.0</td>\n",
       "      <td>15</td>\n",
       "      <td>9</td>\n",
       "      <td>9</td>\n",
       "      <td>0</td>\n",
       "      <td>6</td>\n",
       "      <td>0</td>\n",
       "      <td>0</td>\n",
       "      <td>72.82</td>\n",
       "      <td>71.30</td>\n",
       "      <td>0.0</td>\n",
       "      <td>achiev_100%-150%</td>\n",
       "      <td>achiev_&lt; 50%</td>\n",
       "      <td>not_reached</td>\n",
       "    </tr>\n",
       "    <tr>\n",
       "      <th>3</th>\n",
       "      <td>JG04</td>\n",
       "      <td>7.92</td>\n",
       "      <td>PG04</td>\n",
       "      <td>4.00</td>\n",
       "      <td>0.17</td>\n",
       "      <td>RM_type_A</td>\n",
       "      <td>Permanent</td>\n",
       "      <td>Male</td>\n",
       "      <td>1984</td>\n",
       "      <td>Y</td>\n",
       "      <td>0</td>\n",
       "      <td>0</td>\n",
       "      <td>0</td>\n",
       "      <td>level_3</td>\n",
       "      <td>0.00</td>\n",
       "      <td>2006</td>\n",
       "      <td>8.0</td>\n",
       "      <td>8</td>\n",
       "      <td>5</td>\n",
       "      <td>5</td>\n",
       "      <td>0</td>\n",
       "      <td>3</td>\n",
       "      <td>0</td>\n",
       "      <td>0</td>\n",
       "      <td>86.89</td>\n",
       "      <td>90.09</td>\n",
       "      <td>2.0</td>\n",
       "      <td>achiev_50%-100%</td>\n",
       "      <td>achiev_50%-100%</td>\n",
       "      <td>not_reached</td>\n",
       "    </tr>\n",
       "    <tr>\n",
       "      <th>4</th>\n",
       "      <td>JG04</td>\n",
       "      <td>1.83</td>\n",
       "      <td>PG03</td>\n",
       "      <td>1.83</td>\n",
       "      <td>2.08</td>\n",
       "      <td>RM_type_A</td>\n",
       "      <td>Permanent</td>\n",
       "      <td>Male</td>\n",
       "      <td>1984</td>\n",
       "      <td>Y</td>\n",
       "      <td>1</td>\n",
       "      <td>0</td>\n",
       "      <td>1</td>\n",
       "      <td>NaN</td>\n",
       "      <td>NaN</td>\n",
       "      <td>NaN</td>\n",
       "      <td>7.0</td>\n",
       "      <td>7</td>\n",
       "      <td>4</td>\n",
       "      <td>6</td>\n",
       "      <td>11</td>\n",
       "      <td>2</td>\n",
       "      <td>1</td>\n",
       "      <td>1</td>\n",
       "      <td>95.17</td>\n",
       "      <td>100.72</td>\n",
       "      <td>2.0</td>\n",
       "      <td>achiev_&lt; 50%</td>\n",
       "      <td>achiev_&gt; 1.5</td>\n",
       "      <td>not_reached</td>\n",
       "    </tr>\n",
       "  </tbody>\n",
       "</table>\n",
       "</div>"
      ],
      "text/plain": [
       "  job_level  job_duration_in_current_job_level person_level  job_duration_in_current_person_level  job_duration_in_current_branch Employee_type Employee_status  gender   age marital_status_maried(Y/N)  number_of_dependences  number_of_dependences (male)  number_of_dependences (female) Education_level   GPA year_graduated  job_duration_as_permanent_worker  job_duration_from_training  branch_rotation  job_rotation  assign_of_otherposition  annual leave  sick_leaves  Best Performance  Avg_achievement_%  Last_achievement_%  Achievement_above_100%_during3quartal achievement_target_1 achievement_target_2 achievement_target_3\n",
       "0      JG05                               8.00         PG06                                  8.00                            0.50     RM_type_A       Permanent  Female  1964                          Y                      3                             1                               2         level_4  2.32           1987                              30.0                          30                9             7                        0             8            0                 0              68.85               72.53                                    0.0      achiev_50%-100%         achiev_< 50%              reached\n",
       "1      JG04                               5.17         PG04                                  2.00                            1.25     RM_type_A       Permanent    Male  1979                          Y                      3                             2                               1         level_4  3.25           2001                              15.0                          16                7             7                        9             3            0                 0              94.81              101.13                                    3.0      achiev_50%-100%      achiev_50%-100%              reached\n",
       "2      JG04                               1.83         PG03                                  1.83                            1.50     RM_type_A       Permanent    Male  1980                          Y                      1                             0                               1         level_5  3.23           2007                              15.0                          15                9             9                        0             6            0                 0              72.82               71.30                                    0.0     achiev_100%-150%         achiev_< 50%          not_reached\n",
       "3      JG04                               7.92         PG04                                  4.00                            0.17     RM_type_A       Permanent    Male  1984                          Y                      0                             0                               0         level_3  0.00           2006                               8.0                           8                5             5                        0             3            0                 0              86.89               90.09                                    2.0      achiev_50%-100%      achiev_50%-100%          not_reached\n",
       "4      JG04                               1.83         PG03                                  1.83                            2.08     RM_type_A       Permanent    Male  1984                          Y                      1                             0                               1             NaN   NaN            NaN                               7.0                           7                4             6                       11             2            1                 1              95.17              100.72                                    2.0         achiev_< 50%         achiev_> 1.5          not_reached"
      ]
     },
     "execution_count": 1,
     "metadata": {},
     "output_type": "execute_result"
    }
   ],
   "source": [
    "import pandas as pd\n",
    "import numpy as np\n",
    "import matplotlib.pyplot as plt\n",
    "\n",
    "data = pd.read_csv('train.csv', sep=',')\n",
    "dataPredict = pd.read_csv('test.csv', sep=',')\n",
    "pd.options.display.max_columns = None\n",
    "pd.set_option('expand_frame_repr', False)\n",
    "data.head()"
   ]
  },
  {
   "cell_type": "code",
   "execution_count": 16,
   "metadata": {},
   "outputs": [],
   "source": [
    "fdata = data.drop(['Education_level',\n",
    "                   'GPA',\n",
    "                   'year_graduated',\n",
    "                   \n",
    "                   'Avg_achievement_%',\n",
    "                   'Last_achievement_%',\n",
    "                   'Achievement_above_100%_during3quartal',\n",
    "                   'achievement_target_1',\n",
    "                   'achievement_target_2',\n",
    "                   'achievement_target_3'], \n",
    "                  axis=1)\n",
    "\n",
    "\n",
    "fdata2 = dataPredict.drop(['Education_level',\n",
    "                   'GPA',\n",
    "                   'year_graduated',\n",
    "                   \n",
    "                   'Avg_achievement_%',\n",
    "                   'Last_achievement_%',\n",
    "                   'Achievement_above_100%_during3quartal',\n",
    "                   'achievement_target_1',\n",
    "                   'achievement_target_2',\n",
    "                   'achievement_target_3'], \n",
    "                  axis=1)"
   ]
  },
  {
   "cell_type": "code",
   "execution_count": 31,
   "metadata": {},
   "outputs": [
    {
     "data": {
      "text/html": [
       "<div>\n",
       "<style scoped>\n",
       "    .dataframe tbody tr th:only-of-type {\n",
       "        vertical-align: middle;\n",
       "    }\n",
       "\n",
       "    .dataframe tbody tr th {\n",
       "        vertical-align: top;\n",
       "    }\n",
       "\n",
       "    .dataframe thead th {\n",
       "        text-align: right;\n",
       "    }\n",
       "</style>\n",
       "<table border=\"1\" class=\"dataframe\">\n",
       "  <thead>\n",
       "    <tr style=\"text-align: right;\">\n",
       "      <th></th>\n",
       "      <th>job_duration_in_current_branch</th>\n",
       "      <th>job_duration_in_current_job_level</th>\n",
       "      <th>job_duration_in_current_person_level</th>\n",
       "      <th>job_rotation</th>\n",
       "      <th>age</th>\n",
       "      <th>branch_rotation</th>\n",
       "      <th>best_performance</th>\n",
       "    </tr>\n",
       "  </thead>\n",
       "  <tbody>\n",
       "    <tr>\n",
       "      <th>0</th>\n",
       "      <td>0.50</td>\n",
       "      <td>8.00</td>\n",
       "      <td>8.00</td>\n",
       "      <td>7</td>\n",
       "      <td>1964</td>\n",
       "      <td>9</td>\n",
       "      <td>0</td>\n",
       "    </tr>\n",
       "    <tr>\n",
       "      <th>1</th>\n",
       "      <td>1.25</td>\n",
       "      <td>5.17</td>\n",
       "      <td>2.00</td>\n",
       "      <td>7</td>\n",
       "      <td>1979</td>\n",
       "      <td>7</td>\n",
       "      <td>0</td>\n",
       "    </tr>\n",
       "    <tr>\n",
       "      <th>2</th>\n",
       "      <td>1.50</td>\n",
       "      <td>1.83</td>\n",
       "      <td>1.83</td>\n",
       "      <td>9</td>\n",
       "      <td>1980</td>\n",
       "      <td>9</td>\n",
       "      <td>0</td>\n",
       "    </tr>\n",
       "    <tr>\n",
       "      <th>3</th>\n",
       "      <td>0.17</td>\n",
       "      <td>7.92</td>\n",
       "      <td>4.00</td>\n",
       "      <td>5</td>\n",
       "      <td>1984</td>\n",
       "      <td>5</td>\n",
       "      <td>0</td>\n",
       "    </tr>\n",
       "    <tr>\n",
       "      <th>4</th>\n",
       "      <td>2.08</td>\n",
       "      <td>1.83</td>\n",
       "      <td>1.83</td>\n",
       "      <td>6</td>\n",
       "      <td>1984</td>\n",
       "      <td>4</td>\n",
       "      <td>1</td>\n",
       "    </tr>\n",
       "  </tbody>\n",
       "</table>\n",
       "</div>"
      ],
      "text/plain": [
       "   job_duration_in_current_branch  job_duration_in_current_job_level  job_duration_in_current_person_level  job_rotation   age  branch_rotation  best_performance\n",
       "0                            0.50                               8.00                                  8.00             7  1964                9                 0\n",
       "1                            1.25                               5.17                                  2.00             7  1979                7                 0\n",
       "2                            1.50                               1.83                                  1.83             9  1980                9                 0\n",
       "3                            0.17                               7.92                                  4.00             5  1984                5                 0\n",
       "4                            2.08                               1.83                                  1.83             6  1984                4                 1"
      ]
     },
     "execution_count": 31,
     "metadata": {},
     "output_type": "execute_result"
    }
   ],
   "source": [
    "params = ['job_duration_in_current_branch', \n",
    "             'job_duration_in_current_job_level', \n",
    "             'job_duration_in_current_person_level', \n",
    "             'job_rotation',\n",
    "             'age',\n",
    "             'branch_rotation',\n",
    "             'Best Performance']\n",
    "train_data = fdata[params]\n",
    "train_data = train_data.rename(columns={'Best Performance':'best_performance'})\n",
    "predict_data = fdata2[['job_duration_in_current_branch', \n",
    "             'job_duration_in_current_job_level', \n",
    "             'job_duration_in_current_person_level', \n",
    "             'job_rotation',\n",
    "             'age',\n",
    "             'branch_rotation']]\n",
    "train_data.head()"
   ]
  },
  {
   "cell_type": "code",
   "execution_count": 27,
   "metadata": {},
   "outputs": [],
   "source": [
    "# f1data = fdata.dropna()\n",
    "# f1data_label = f1data['Best Performance']\n",
    "# f1data = f1data.drop('Best Performance', axis = 1)\n",
    "# #data_combine = f1data.append(fdata2)\n",
    "# print(len(data_combine))\n",
    "# print(len(f1data))\n",
    "# #print(data.isnull().sum())\n",
    "# f1data.head()"
   ]
  },
  {
   "cell_type": "code",
   "execution_count": 28,
   "metadata": {},
   "outputs": [],
   "source": [
    "# from sklearn.preprocessing import LabelEncoder, MinMaxScaler\n",
    "# LE = LabelEncoder()\n",
    "\n",
    "# data_combine['job_level'] = LE.fit_transform(data_combine['job_level'])\n",
    "# data_combine['person_level'] = LE.fit_transform(data_combine['person_level'])\n",
    "# data_combine['Employee_type'] = LE.fit_transform(data_combine['Employee_type'])\n",
    "# data_combine['Employee_status'] = LE.fit_transform(data_combine['Employee_status'])\n",
    "# data_combine['gender'] = LE.fit_transform(data_combine['gender'])\n",
    "# data_combine['age'] = LE.fit_transform(data_combine['age'])\n",
    "# data_combine['marital_status_maried(Y/N)'] = LE.fit_transform(data_combine['marital_status_maried(Y/N)'])\n",
    "# data_combine"
   ]
  },
  {
   "cell_type": "code",
   "execution_count": 29,
   "metadata": {},
   "outputs": [
    {
     "ename": "NameError",
     "evalue": "name 'data_for_train_test' is not defined",
     "output_type": "error",
     "traceback": [
      "\u001b[1;31m---------------------------------------------------------------------------\u001b[0m",
      "\u001b[1;31mNameError\u001b[0m                                 Traceback (most recent call last)",
      "\u001b[1;32m<ipython-input-29-a9c193022c72>\u001b[0m in \u001b[0;36m<module>\u001b[1;34m\u001b[0m\n\u001b[0;32m      1\u001b[0m \u001b[1;31m# pred_real_data = data_combine[len(data_combine)-6000:]\u001b[0m\u001b[1;33m\u001b[0m\u001b[1;33m\u001b[0m\u001b[1;33m\u001b[0m\u001b[0m\n\u001b[0;32m      2\u001b[0m \u001b[1;31m# data_for_train_test = data_combine[:len(data_combine)-6000]\u001b[0m\u001b[1;33m\u001b[0m\u001b[1;33m\u001b[0m\u001b[1;33m\u001b[0m\u001b[0m\n\u001b[1;32m----> 3\u001b[1;33m \u001b[0mdata_for_train_test\u001b[0m \u001b[1;33m=\u001b[0m \u001b[0mdata_for_train_test\u001b[0m\u001b[1;33m.\u001b[0m\u001b[0massign\u001b[0m\u001b[1;33m(\u001b[0m\u001b[0mbest_performance\u001b[0m\u001b[1;33m=\u001b[0m\u001b[0mf1data_label\u001b[0m\u001b[1;33m.\u001b[0m\u001b[0mvalues\u001b[0m\u001b[1;33m)\u001b[0m\u001b[1;33m\u001b[0m\u001b[1;33m\u001b[0m\u001b[0m\n\u001b[0m\u001b[0;32m      4\u001b[0m \u001b[1;31m# data_for_train_test\u001b[0m\u001b[1;33m\u001b[0m\u001b[1;33m\u001b[0m\u001b[1;33m\u001b[0m\u001b[0m\n",
      "\u001b[1;31mNameError\u001b[0m: name 'data_for_train_test' is not defined"
     ]
    }
   ],
   "source": [
    "# pred_real_data = data_combine[len(data_combine)-6000:]\n",
    "# data_for_train_test = data_combine[:len(data_combine)-6000]\n",
    "# data_for_train_test = data_for_train_test.assign(best_performance=f1data_label.values)\n",
    "# data_for_train_test"
   ]
  },
  {
   "cell_type": "code",
   "execution_count": 19,
   "metadata": {},
   "outputs": [
    {
     "name": "stdout",
     "output_type": "stream",
     "text": [
      "Checking whether there is an H2O instance running at http://localhost:54321 ..... not found.\n",
      "Attempting to start a local H2O server...\n",
      "; Java HotSpot(TM) 64-Bit Server VM 18.9 (build 11.0.6+8-LTS, mixed mode)\n",
      "  Starting server from E:\\Anaconda\\envs\\project1\\lib\\site-packages\\h2o\\backend\\bin\\h2o.jar\n",
      "  Ice root: C:\\Users\\ASUSA4~1\\AppData\\Local\\Temp\\tmp7xox4rpd\n",
      "  JVM stdout: C:\\Users\\ASUSA4~1\\AppData\\Local\\Temp\\tmp7xox4rpd\\h2o_Rizky_Saputra_started_from_python.out\n",
      "  JVM stderr: C:\\Users\\ASUSA4~1\\AppData\\Local\\Temp\\tmp7xox4rpd\\h2o_Rizky_Saputra_started_from_python.err\n",
      "  Server is running at http://127.0.0.1:54321\n",
      "Connecting to H2O server at http://127.0.0.1:54321 ... successful.\n"
     ]
    },
    {
     "data": {
      "text/html": [
       "<div style=\"overflow:auto\"><table style=\"width:50%\"><tr><td>H2O_cluster_uptime:</td>\n",
       "<td>07 secs</td></tr>\n",
       "<tr><td>H2O_cluster_timezone:</td>\n",
       "<td>Asia/Bangkok</td></tr>\n",
       "<tr><td>H2O_data_parsing_timezone:</td>\n",
       "<td>UTC</td></tr>\n",
       "<tr><td>H2O_cluster_version:</td>\n",
       "<td>3.32.0.2</td></tr>\n",
       "<tr><td>H2O_cluster_version_age:</td>\n",
       "<td>1 month </td></tr>\n",
       "<tr><td>H2O_cluster_name:</td>\n",
       "<td>H2O_from_python_Rizky_Saputra_djty1d</td></tr>\n",
       "<tr><td>H2O_cluster_total_nodes:</td>\n",
       "<td>1</td></tr>\n",
       "<tr><td>H2O_cluster_free_memory:</td>\n",
       "<td>1.479 Gb</td></tr>\n",
       "<tr><td>H2O_cluster_total_cores:</td>\n",
       "<td>4</td></tr>\n",
       "<tr><td>H2O_cluster_allowed_cores:</td>\n",
       "<td>4</td></tr>\n",
       "<tr><td>H2O_cluster_status:</td>\n",
       "<td>accepting new members, healthy</td></tr>\n",
       "<tr><td>H2O_connection_url:</td>\n",
       "<td>http://127.0.0.1:54321</td></tr>\n",
       "<tr><td>H2O_connection_proxy:</td>\n",
       "<td>{\"http\": null, \"https\": null}</td></tr>\n",
       "<tr><td>H2O_internal_security:</td>\n",
       "<td>False</td></tr>\n",
       "<tr><td>H2O_API_Extensions:</td>\n",
       "<td>Amazon S3, Algos, AutoML, Core V3, TargetEncoder, Core V4</td></tr>\n",
       "<tr><td>Python_version:</td>\n",
       "<td>3.7.9 final</td></tr></table></div>"
      ],
      "text/plain": [
       "--------------------------  ---------------------------------------------------------\n",
       "H2O_cluster_uptime:         07 secs\n",
       "H2O_cluster_timezone:       Asia/Bangkok\n",
       "H2O_data_parsing_timezone:  UTC\n",
       "H2O_cluster_version:        3.32.0.2\n",
       "H2O_cluster_version_age:    1 month\n",
       "H2O_cluster_name:           H2O_from_python_Rizky_Saputra_djty1d\n",
       "H2O_cluster_total_nodes:    1\n",
       "H2O_cluster_free_memory:    1.479 Gb\n",
       "H2O_cluster_total_cores:    4\n",
       "H2O_cluster_allowed_cores:  4\n",
       "H2O_cluster_status:         accepting new members, healthy\n",
       "H2O_connection_url:         http://127.0.0.1:54321\n",
       "H2O_connection_proxy:       {\"http\": null, \"https\": null}\n",
       "H2O_internal_security:      False\n",
       "H2O_API_Extensions:         Amazon S3, Algos, AutoML, Core V3, TargetEncoder, Core V4\n",
       "Python_version:             3.7.9 final\n",
       "--------------------------  ---------------------------------------------------------"
      ]
     },
     "metadata": {},
     "output_type": "display_data"
    }
   ],
   "source": [
    "import h2o\n",
    "from h2o.automl import H2OAutoML\n",
    "h2o.init()"
   ]
  },
  {
   "cell_type": "code",
   "execution_count": 32,
   "metadata": {},
   "outputs": [
    {
     "name": "stdout",
     "output_type": "stream",
     "text": [
      "Parse progress: |█████████████████████████████████████████████████████████| 100%\n"
     ]
    }
   ],
   "source": [
    "df = h2o.H2OFrame(train_data)"
   ]
  },
  {
   "cell_type": "code",
   "execution_count": 33,
   "metadata": {},
   "outputs": [
    {
     "data": {
      "text/plain": [
       "[['0', '1']]"
      ]
     },
     "execution_count": 33,
     "metadata": {},
     "output_type": "execute_result"
    }
   ],
   "source": [
    "df['best_performance'] = df['best_performance'].asfactor()\n",
    "df['best_performance'].levels()"
   ]
  },
  {
   "cell_type": "code",
   "execution_count": 36,
   "metadata": {},
   "outputs": [],
   "source": [
    "y = 'best_performance'\n",
    "x = list(train_data.columns)\n",
    "x.remove(y)\n",
    "# print(len(train), len(validate), len(test))"
   ]
  },
  {
   "cell_type": "code",
   "execution_count": 64,
   "metadata": {},
   "outputs": [
    {
     "name": "stdout",
     "output_type": "stream",
     "text": [
      "AutoML progress: |\n",
      "00:31:13.715: AutoML: XGBoost is not available; skipping it.\n",
      "\n",
      "████████████████████████████████████████████████████████| 100%\n"
     ]
    }
   ],
   "source": [
    "aml = H2OAutoML(max_models = 10, seed = 1)\n",
    "aml.train(x = x, y = y, training_frame = df)"
   ]
  },
  {
   "cell_type": "code",
   "execution_count": 65,
   "metadata": {},
   "outputs": [
    {
     "data": {
      "text/html": [
       "<table>\n",
       "<thead>\n",
       "<tr><th>model_id                                           </th><th style=\"text-align: right;\">     auc</th><th style=\"text-align: right;\">  logloss</th><th style=\"text-align: right;\">   aucpr</th><th style=\"text-align: right;\">  mean_per_class_error</th><th style=\"text-align: right;\">    rmse</th><th style=\"text-align: right;\">     mse</th></tr>\n",
       "</thead>\n",
       "<tbody>\n",
       "<tr><td>GBM_1_AutoML_20201218_003113                       </td><td style=\"text-align: right;\">0.658322</td><td style=\"text-align: right;\"> 0.344088</td><td style=\"text-align: right;\">0.189316</td><td style=\"text-align: right;\">              0.393461</td><td style=\"text-align: right;\">0.320562</td><td style=\"text-align: right;\">0.10276 </td></tr>\n",
       "<tr><td>GBM_2_AutoML_20201218_003113                       </td><td style=\"text-align: right;\">0.657848</td><td style=\"text-align: right;\"> 0.343959</td><td style=\"text-align: right;\">0.189428</td><td style=\"text-align: right;\">              0.389947</td><td style=\"text-align: right;\">0.320489</td><td style=\"text-align: right;\">0.102714</td></tr>\n",
       "<tr><td>GBM_grid__1_AutoML_20201218_003113_model_1         </td><td style=\"text-align: right;\">0.657581</td><td style=\"text-align: right;\"> 0.343202</td><td style=\"text-align: right;\">0.19049 </td><td style=\"text-align: right;\">              0.38839 </td><td style=\"text-align: right;\">0.320017</td><td style=\"text-align: right;\">0.102411</td></tr>\n",
       "<tr><td>StackedEnsemble_AllModels_AutoML_20201218_003113   </td><td style=\"text-align: right;\">0.655882</td><td style=\"text-align: right;\"> 0.348856</td><td style=\"text-align: right;\">0.191621</td><td style=\"text-align: right;\">              0.388958</td><td style=\"text-align: right;\">0.321104</td><td style=\"text-align: right;\">0.103108</td></tr>\n",
       "<tr><td>GBM_3_AutoML_20201218_003113                       </td><td style=\"text-align: right;\">0.655112</td><td style=\"text-align: right;\"> 0.345152</td><td style=\"text-align: right;\">0.186765</td><td style=\"text-align: right;\">              0.389241</td><td style=\"text-align: right;\">0.321009</td><td style=\"text-align: right;\">0.103047</td></tr>\n",
       "<tr><td>GBM_5_AutoML_20201218_003113                       </td><td style=\"text-align: right;\">0.654121</td><td style=\"text-align: right;\"> 0.34462 </td><td style=\"text-align: right;\">0.191398</td><td style=\"text-align: right;\">              0.392318</td><td style=\"text-align: right;\">0.320614</td><td style=\"text-align: right;\">0.102794</td></tr>\n",
       "<tr><td>GBM_4_AutoML_20201218_003113                       </td><td style=\"text-align: right;\">0.653443</td><td style=\"text-align: right;\"> 0.347889</td><td style=\"text-align: right;\">0.183372</td><td style=\"text-align: right;\">              0.389059</td><td style=\"text-align: right;\">0.322196</td><td style=\"text-align: right;\">0.10381 </td></tr>\n",
       "<tr><td>StackedEnsemble_BestOfFamily_AutoML_20201218_003113</td><td style=\"text-align: right;\">0.652486</td><td style=\"text-align: right;\"> 0.351468</td><td style=\"text-align: right;\">0.187034</td><td style=\"text-align: right;\">              0.391083</td><td style=\"text-align: right;\">0.321997</td><td style=\"text-align: right;\">0.103682</td></tr>\n",
       "<tr><td>XRT_1_AutoML_20201218_003113                       </td><td style=\"text-align: right;\">0.641843</td><td style=\"text-align: right;\"> 0.36741 </td><td style=\"text-align: right;\">0.175624</td><td style=\"text-align: right;\">              0.393347</td><td style=\"text-align: right;\">0.326176</td><td style=\"text-align: right;\">0.106391</td></tr>\n",
       "<tr><td>DRF_1_AutoML_20201218_003113                       </td><td style=\"text-align: right;\">0.64152 </td><td style=\"text-align: right;\"> 0.374343</td><td style=\"text-align: right;\">0.17371 </td><td style=\"text-align: right;\">              0.391421</td><td style=\"text-align: right;\">0.330123</td><td style=\"text-align: right;\">0.108981</td></tr>\n",
       "</tbody>\n",
       "</table>"
      ]
     },
     "metadata": {},
     "output_type": "display_data"
    },
    {
     "data": {
      "text/plain": []
     },
     "execution_count": 65,
     "metadata": {},
     "output_type": "execute_result"
    }
   ],
   "source": [
    "lb = aml.leaderboard\n",
    "lb"
   ]
  },
  {
   "cell_type": "code",
   "execution_count": 66,
   "metadata": {},
   "outputs": [
    {
     "name": "stderr",
     "output_type": "stream",
     "text": [
      "E:\\Anaconda\\envs\\project1\\lib\\site-packages\\h2o\\estimators\\stackedensemble.py:804: H2ODeprecationWarning: The usage of stacked_ensemble.metalearner()['name'] will be deprecated. Metalearner now returns the metalearner object. If you need to get the 'name' please use stacked_ensemble.metalearner().model_id\n",
      "  H2ODeprecationWarning\n"
     ]
    }
   ],
   "source": [
    "# Get model ids for all models in the AutoML Leaderboard\n",
    "model_ids = list(aml.leaderboard['model_id'].as_data_frame().iloc[:,0])\n",
    "# Get the \"All Models\" Stacked Ensemble model\n",
    "se = h2o.get_model([mid for mid in model_ids if \"StackedEnsemble_AllModels\" in mid][0])\n",
    "# Get the Stacked Ensemble metalearner model\n",
    "metalearner = h2o.get_model(se.metalearner()['name'])"
   ]
  },
  {
   "cell_type": "code",
   "execution_count": null,
   "metadata": {},
   "outputs": [],
   "source": []
  },
  {
   "cell_type": "code",
   "execution_count": 67,
   "metadata": {},
   "outputs": [
    {
     "data": {
      "text/plain": [
       "{'Intercept': -2.1350576729028226,\n",
       " 'GBM_1_AutoML_20201218_003113': 0.0,\n",
       " 'GBM_2_AutoML_20201218_003113': 0.024674268118038262,\n",
       " 'GBM_grid__1_AutoML_20201218_003113_model_1': 0.4177293760686477,\n",
       " 'GBM_3_AutoML_20201218_003113': 0.0,\n",
       " 'GBM_5_AutoML_20201218_003113': 0.17102108186808773,\n",
       " 'GBM_4_AutoML_20201218_003113': 0.0,\n",
       " 'XRT_1_AutoML_20201218_003113': 0.0,\n",
       " 'DRF_1_AutoML_20201218_003113': 0.018595692155889902,\n",
       " 'DeepLearning_1_AutoML_20201218_003113': 0.060030188805303676,\n",
       " 'GLM_1_AutoML_20201218_003113': 0.028197486122764286}"
      ]
     },
     "execution_count": 67,
     "metadata": {},
     "output_type": "execute_result"
    }
   ],
   "source": [
    "metalearner.coef_norm()"
   ]
  },
  {
   "cell_type": "code",
   "execution_count": 68,
   "metadata": {},
   "outputs": [
    {
     "data": {
      "image/png": "[encoded data removed]",
      "text/plain": [
       "<Figure size 1008x720 with 1 Axes>"
      ]
     },
     "metadata": {
      "needs_background": "light"
     },
     "output_type": "display_data"
    }
   ],
   "source": [
    "%matplotlib inline\n",
    "metalearner.std_coef_plot()"
   ]
  },
  {
   "cell_type": "code",
   "execution_count": 69,
   "metadata": {},
   "outputs": [
    {
     "name": "stdout",
     "output_type": "stream",
     "text": [
      "Parse progress: |█████████████████████████████████████████████████████████| 100%\n",
      "                               variable  relative_importance  scaled_importance  percentage\n",
      "0                          job_rotation           290.102661           1.000000    0.296796\n",
      "1     job_duration_in_current_job_level           187.320633           0.645705    0.191642\n",
      "2        job_duration_in_current_branch           166.907532           0.575340    0.170758\n",
      "3                                   age           128.492172           0.442920    0.131457\n",
      "4                       branch_rotation           106.153862           0.365918    0.108603\n",
      "5  job_duration_in_current_person_level            98.472382           0.339440    0.100744\n"
     ]
    },
    {
     "data": {
      "image/png": "[encoded data removed]",
      "text/plain": [
       "<Figure size 1008x720 with 1 Axes>"
      ]
     },
     "metadata": {
      "needs_background": "light"
     },
     "output_type": "display_data"
    },
    {
     "name": "stdout",
     "output_type": "stream",
     "text": [
      "gbm prediction progress: |████████████████████████████████████████████████| 100%\n"
     ]
    }
   ],
   "source": [
    "real_p = h2o.H2OFrame(predict_data)\n",
    "auto = aml.leader\n",
    "print(auto.varimp(use_pandas=True))\n",
    "auto.varimp_plot()\n",
    "res_pred = auto.predict(real_p)"
   ]
  },
  {
   "cell_type": "code",
   "execution_count": 70,
   "metadata": {},
   "outputs": [
    {
     "name": "stdout",
     "output_type": "stream",
     "text": [
      "0.7356965877613503\n"
     ]
    }
   ],
   "source": [
    "df_ress = res_pred.as_data_frame()\n",
    "print(auto.auc())\n"
   ]
  },
  {
   "cell_type": "code",
   "execution_count": 71,
   "metadata": {},
   "outputs": [
    {
     "name": "stdout",
     "output_type": "stream",
     "text": [
      "   index  Best Performance\n",
      "0      0          0.107286\n",
      "1      1          0.143772\n",
      "2      2          0.170453\n",
      "3      3          0.156198\n",
      "4      4          0.126505\n"
     ]
    },
    {
     "data": {
      "text/html": [
       "<table>\n",
       "<thead>\n",
       "<tr><th style=\"text-align: right;\">  predict</th><th style=\"text-align: right;\">      p0</th><th style=\"text-align: right;\">      p1</th></tr>\n",
       "</thead>\n",
       "<tbody>\n",
       "<tr><td style=\"text-align: right;\">        0</td><td style=\"text-align: right;\">0.892714</td><td style=\"text-align: right;\">0.107286</td></tr>\n",
       "<tr><td style=\"text-align: right;\">        0</td><td style=\"text-align: right;\">0.856228</td><td style=\"text-align: right;\">0.143772</td></tr>\n",
       "<tr><td style=\"text-align: right;\">        1</td><td style=\"text-align: right;\">0.829547</td><td style=\"text-align: right;\">0.170453</td></tr>\n",
       "<tr><td style=\"text-align: right;\">        1</td><td style=\"text-align: right;\">0.843802</td><td style=\"text-align: right;\">0.156198</td></tr>\n",
       "<tr><td style=\"text-align: right;\">        0</td><td style=\"text-align: right;\">0.873495</td><td style=\"text-align: right;\">0.126505</td></tr>\n",
       "<tr><td style=\"text-align: right;\">        1</td><td style=\"text-align: right;\">0.81237 </td><td style=\"text-align: right;\">0.18763 </td></tr>\n",
       "<tr><td style=\"text-align: right;\">        0</td><td style=\"text-align: right;\">0.858302</td><td style=\"text-align: right;\">0.141698</td></tr>\n",
       "<tr><td style=\"text-align: right;\">        0</td><td style=\"text-align: right;\">0.86402 </td><td style=\"text-align: right;\">0.13598 </td></tr>\n",
       "<tr><td style=\"text-align: right;\">        0</td><td style=\"text-align: right;\">0.88171 </td><td style=\"text-align: right;\">0.11829 </td></tr>\n",
       "<tr><td style=\"text-align: right;\">        0</td><td style=\"text-align: right;\">0.847264</td><td style=\"text-align: right;\">0.152736</td></tr>\n",
       "</tbody>\n",
       "</table>"
      ]
     },
     "metadata": {},
     "output_type": "display_data"
    },
    {
     "name": "stdout",
     "output_type": "stream",
     "text": [
      "\n"
     ]
    }
   ],
   "source": [
    "df_res = pd.DataFrame(df_ress['p1'])\n",
    "df_res.columns = ['Best Performance']\n",
    "df_res['index'] = df_res.index\n",
    "df_res = df_res[['index', 'Best Performance']]\n",
    "print(df_res.head())\n",
    "print(res_pred)\n",
    "#print(df_res.max())"
   ]
  },
  {
   "cell_type": "code",
   "execution_count": 72,
   "metadata": {},
   "outputs": [],
   "source": [
    "df_res.to_csv('pred_result_with_h2o_autoML_most5.csv', index=False)"
   ]
  },
  {
   "cell_type": "code",
   "execution_count": 73,
   "metadata": {},
   "outputs": [],
   "source": [
    "from sklearn.ensemble import RandomForestClassifier"
   ]
  },
  {
   "cell_type": "code",
   "execution_count": 93,
   "metadata": {},
   "outputs": [
    {
     "name": "stdout",
     "output_type": "stream",
     "text": [
      "0.63193825003751\n"
     ]
    }
   ],
   "source": [
    "from sklearn.model_selection import train_test_split\n",
    "\n",
    "train_data_sklearn = train_data\n",
    "predict_data_sklearn = predict_data\n",
    "\n",
    "data_for_train_test = train_data_sklearn[['job_duration_in_current_branch', \n",
    "             'job_duration_in_current_job_level', \n",
    "             'job_duration_in_current_person_level', \n",
    "             'job_rotation',\n",
    "             'age',\n",
    "             'branch_rotation']]\n",
    "train_label = train_data_sklearn['best_performance']\n",
    "\n",
    "X_train, X_test, y_train, y_test = train_test_split(data_for_train_test, train_label, test_size=0.33, random_state=42)\n",
    "\n",
    "clf = RandomForestClassifier(max_depth=2, random_state=10)\n",
    "clf.fit(X_train, y_train)\n",
    "score = clf.score(X_test, y_test)\n",
    "\n",
    "from sklearn.metrics import roc_auc_score\n",
    "pred = clf.predict(X_test)\n",
    "prob = clf.predict_proba(X_test).T[1]\n",
    "valY = np.array(y_test) \n",
    "auc_score = roc_auc_score(valY, prob)\n",
    "\n",
    "print(auc_score)"
   ]
  },
  {
   "cell_type": "code",
   "execution_count": 92,
   "metadata": {},
   "outputs": [
    {
     "name": "stdout",
     "output_type": "stream",
     "text": [
      "0.5972389933078469 [[ 0.18342592 -0.05739591  0.17608527  0.15671798 -0.00138354 -0.03561121]]\n"
     ]
    }
   ],
   "source": [
    "from sklearn.linear_model import LogisticRegression\n",
    "logModel = LogisticRegression()\n",
    "logModel.fit(X_train, y_train)\n",
    "pred_log = logModel.predict(X_test)\n",
    "prob_log = logModel.predict_proba(X_test).T[1] \n",
    "auc_score_log = roc_auc_score(valY, prob_log)\n",
    "print(auc_score_log, logModel.coef_)"
   ]
  },
  {
   "cell_type": "code",
   "execution_count": null,
   "metadata": {},
   "outputs": [],
   "source": []
  }
 ],
 "metadata": {
  "kernelspec": {
   "display_name": "Python 3",
   "language": "python",
   "name": "python3"
  }
 },
 "nbformat": 4,
 "nbformat_minor": 4
}
